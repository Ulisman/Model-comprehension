{
  "nbformat": 4,
  "nbformat_minor": 0,
  "metadata": {
    "colab": {
      "name": "False-accuracyipynb",
      "provenance": [],
      "authorship_tag": "ABX9TyOp7kVbRaIcQY/yVrUoDBaO",
      "include_colab_link": true
    },
    "kernelspec": {
      "name": "python3",
      "display_name": "Python 3"
    },
    "language_info": {
      "name": "python"
    }
  },
  "cells": [
    {
      "cell_type": "markdown",
      "metadata": {
        "id": "view-in-github",
        "colab_type": "text"
      },
      "source": [
        "<a href=\"https://colab.research.google.com/github/Ulisman/Model-comprehension/blob/main/False_accuracyipynb.ipynb\" target=\"_parent\"><img src=\"https://colab.research.google.com/assets/colab-badge.svg\" alt=\"Open In Colab\"/></a>"
      ]
    },
    {
      "cell_type": "code",
      "execution_count": null,
      "metadata": {
        "id": "DuwIC9BMuadr"
      },
      "outputs": [],
      "source": [
        "from tensorflow.keras.datasets import mnist\n",
        "import tensorflow as tf\n",
        "from tensorflow import keras"
      ]
    },
    {
      "cell_type": "markdown",
      "source": [
        "## Testing how a image classifier built for digit recognition reacts to completely different images"
      ],
      "metadata": {
        "id": "wEWBAfrzxXLF"
      }
    },
    {
      "cell_type": "code",
      "source": [
        "(X_train, y_train), (X_test, y_test) = mnist.load_data()"
      ],
      "metadata": {
        "id": "FVf7F7iuv-ej",
        "colab": {
          "base_uri": "https://localhost:8080/"
        },
        "outputId": "b72b355f-cfc0-4f04-ab8c-f4f26eb67f64"
      },
      "execution_count": null,
      "outputs": [
        {
          "output_type": "stream",
          "name": "stdout",
          "text": [
            "Downloading data from https://storage.googleapis.com/tensorflow/tf-keras-datasets/mnist.npz\n",
            "11493376/11490434 [==============================] - 0s 0us/step\n",
            "11501568/11490434 [==============================] - 0s 0us/step\n"
          ]
        }
      ]
    },
    {
      "cell_type": "code",
      "source": [
        "X_train.shape"
      ],
      "metadata": {
        "colab": {
          "base_uri": "https://localhost:8080/"
        },
        "id": "mAC7CW43xP1W",
        "outputId": "cd8cfdd3-03b8-489b-afb0-dd82ac7fa82d"
      },
      "execution_count": null,
      "outputs": [
        {
          "output_type": "execute_result",
          "data": {
            "text/plain": [
              "(60000, 28, 28)"
            ]
          },
          "metadata": {},
          "execution_count": 3
        }
      ]
    },
    {
      "cell_type": "code",
      "source": [
        "import matplotlib.pyplot as plt\n",
        "%matplotlib inline\n",
        "\n",
        "plt.imshow(X_train[1])"
      ],
      "metadata": {
        "colab": {
          "base_uri": "https://localhost:8080/",
          "height": 282
        },
        "id": "GE49HnqjxThs",
        "outputId": "d89e585b-92d4-42a8-8044-f10210d9fe20"
      },
      "execution_count": null,
      "outputs": [
        {
          "output_type": "execute_result",
          "data": {
            "text/plain": [
              "<matplotlib.image.AxesImage at 0x7fc931866910>"
            ]
          },
          "metadata": {},
          "execution_count": 3
        },
        {
          "output_type": "display_data",
          "data": {
            "image/png": "[encoded data removed]",
            "text/plain": [
              "<Figure size 432x288 with 1 Axes>"
            ]
          },
          "metadata": {
            "needs_background": "light"
          }
        }
      ]
    },
    {
      "cell_type": "code",
      "source": [
        "y_train[1]"
      ],
      "metadata": {
        "colab": {
          "base_uri": "https://localhost:8080/"
        },
        "id": "3zwXQ5y568JC",
        "outputId": "9707ddc8-64c5-45ce-b155-12e3430ceb58"
      },
      "execution_count": null,
      "outputs": [
        {
          "output_type": "execute_result",
          "data": {
            "text/plain": [
              "0"
            ]
          },
          "metadata": {},
          "execution_count": 5
        }
      ]
    },
    {
      "cell_type": "code",
      "source": [
        "import numpy as np\n",
        "len(np.unique(y_train))"
      ],
      "metadata": {
        "colab": {
          "base_uri": "https://localhost:8080/"
        },
        "id": "GCyYTo6i7scI",
        "outputId": "04d9abd2-9a35-4133-f655-e8f43efb8208"
      },
      "execution_count": null,
      "outputs": [
        {
          "output_type": "execute_result",
          "data": {
            "text/plain": [
              "10"
            ]
          },
          "metadata": {},
          "execution_count": 4
        }
      ]
    },
    {
      "cell_type": "markdown",
      "source": [
        "### Creating the model"
      ],
      "metadata": {
        "id": "MJGT6LF2zV4N"
      }
    },
    {
      "cell_type": "code",
      "source": [
        "X_train.shape #(60000, 28, 28)\n",
        "inp_shape = (28, 28, 1) #1 represents the 1 dimensional colorway"
      ],
      "metadata": {
        "id": "uBkcj2RO2EIz"
      },
      "execution_count": null,
      "outputs": []
    },
    {
      "cell_type": "code",
      "source": [
        "input = keras.layers.Input(shape=inp_shape)\n",
        "x = keras.layers.Conv2D(64, 3, activation='relu')(input)\n",
        "x = keras.layers.Flatten()(x) #Important to flatten before we pass to FNN\n",
        "x = keras.layers.Dense(64, activation='relu')(x)\n",
        "x = keras.layers.Dense(10, activation='softmax')(x)\n",
        "model = keras.Model(inputs=input, outputs=x)"
      ],
      "metadata": {
        "id": "ztpxiA4yydlc"
      },
      "execution_count": null,
      "outputs": []
    },
    {
      "cell_type": "code",
      "source": [
        "model.compile(\n",
        "    loss=keras.losses.SparseCategoricalCrossentropy(),\n",
        "    optimizer='adam',\n",
        "    metrics = ['accuracy']\n",
        ")"
      ],
      "metadata": {
        "id": "dHHH02Klzv5T"
      },
      "execution_count": null,
      "outputs": []
    },
    {
      "cell_type": "code",
      "source": [
        "model.summary()"
      ],
      "metadata": {
        "colab": {
          "base_uri": "https://localhost:8080/"
        },
        "id": "3293B0Ox-fN7",
        "outputId": "f3b907e0-4e74-41a2-efaf-b12fd51b6b39"
      },
      "execution_count": null,
      "outputs": [
        {
          "output_type": "stream",
          "name": "stdout",
          "text": [
            "Model: \"model\"\n",
            "_________________________________________________________________\n",
            " Layer (type)                Output Shape              Param #   \n",
            "=================================================================\n",
            " input_1 (InputLayer)        [(None, 28, 28, 1)]       0         \n",
            "                                                                 \n",
            " conv2d (Conv2D)             (None, 26, 26, 64)        640       \n",
            "                                                                 \n",
            " flatten (Flatten)           (None, 43264)             0         \n",
            "                                                                 \n",
            " dense (Dense)               (None, 64)                2768960   \n",
            "                                                                 \n",
            " dense_1 (Dense)             (None, 10)                650       \n",
            "                                                                 \n",
            "=================================================================\n",
            "Total params: 2,770,250\n",
            "Trainable params: 2,770,250\n",
            "Non-trainable params: 0\n",
            "_________________________________________________________________\n"
          ]
        }
      ]
    },
    {
      "cell_type": "code",
      "source": [
        "model.fit(X_train, y_train, epochs=10)"
      ],
      "metadata": {
        "colab": {
          "base_uri": "https://localhost:8080/"
        },
        "id": "B0BRX0sr3iHm",
        "outputId": "900825a6-02bc-4fdb-f73f-41c7b0f952d1"
      },
      "execution_count": null,
      "outputs": [
        {
          "output_type": "stream",
          "name": "stdout",
          "text": [
            "Epoch 1/10\n",
            "1875/1875 [==============================] - 81s 43ms/step - loss: 0.6322 - accuracy: 0.9152\n",
            "Epoch 2/10\n",
            "1875/1875 [==============================] - 75s 40ms/step - loss: 0.0824 - accuracy: 0.9753\n",
            "Epoch 3/10\n",
            "1875/1875 [==============================] - 75s 40ms/step - loss: 0.0529 - accuracy: 0.9836\n",
            "Epoch 4/10\n",
            "1875/1875 [==============================] - 76s 41ms/step - loss: 0.0353 - accuracy: 0.9892\n",
            "Epoch 5/10\n",
            "1875/1875 [==============================] - 75s 40ms/step - loss: 0.0282 - accuracy: 0.9914\n",
            "Epoch 6/10\n",
            "1875/1875 [==============================] - 75s 40ms/step - loss: 0.0222 - accuracy: 0.9931\n",
            "Epoch 7/10\n",
            "1875/1875 [==============================] - 78s 42ms/step - loss: 0.0203 - accuracy: 0.9941\n",
            "Epoch 8/10\n",
            "1875/1875 [==============================] - 76s 40ms/step - loss: 0.0176 - accuracy: 0.9955\n",
            "Epoch 9/10\n",
            "1875/1875 [==============================] - 77s 41ms/step - loss: 0.0180 - accuracy: 0.9955\n",
            "Epoch 10/10\n",
            "1875/1875 [==============================] - 77s 41ms/step - loss: 0.0151 - accuracy: 0.9961\n"
          ]
        },
        {
          "output_type": "execute_result",
          "data": {
            "text/plain": [
              "<keras.callbacks.History at 0x7fc92d211910>"
            ]
          },
          "metadata": {},
          "execution_count": 8
        }
      ]
    },
    {
      "cell_type": "code",
      "source": [
        "model.evaluate(X_test, y_test)"
      ],
      "metadata": {
        "colab": {
          "base_uri": "https://localhost:8080/"
        },
        "id": "9wpoV6VZwIWW",
        "outputId": "23e60e86-bc50-4893-a463-0b41c6189a04"
      },
      "execution_count": null,
      "outputs": [
        {
          "output_type": "stream",
          "name": "stdout",
          "text": [
            "313/313 [==============================] - 5s 15ms/step - loss: 0.1919 - accuracy: 0.9749\n"
          ]
        },
        {
          "output_type": "execute_result",
          "data": {
            "text/plain": [
              "[0.19191649556159973, 0.9749000072479248]"
            ]
          },
          "metadata": {},
          "execution_count": 46
        }
      ]
    },
    {
      "cell_type": "code",
      "source": [
        "predictions_5 = model.predict(X_test[:5])"
      ],
      "metadata": {
        "id": "TSS8J1g87iAG"
      },
      "execution_count": null,
      "outputs": []
    },
    {
      "cell_type": "code",
      "source": [
        "print(predictions_5[0])\n",
        "print(\"predicted label: \", np.argmax(predictions_5[0]))\n",
        "print(\"true label: \", y_test[0])\n",
        "print(\"Confidence: \", predictions_5[0][y_test[0]]) #100%"
      ],
      "metadata": {
        "colab": {
          "base_uri": "https://localhost:8080/"
        },
        "id": "G4gEIBK_7nGN",
        "outputId": "3faae573-eefe-4ec1-9c5a-6f3a886f0092"
      },
      "execution_count": null,
      "outputs": [
        {
          "output_type": "stream",
          "name": "stdout",
          "text": [
            "[5.7399257e-26 9.3508669e-24 4.9614298e-19 6.9383333e-22 1.0459655e-16\n",
            " 4.6013917e-24 7.1042043e-28 1.0000000e+00 1.1879501e-16 2.6795118e-21]\n",
            "predicted label:  7\n",
            "true label:  7\n",
            "Confidence:  1.0\n"
          ]
        }
      ]
    },
    {
      "cell_type": "code",
      "source": [
        "for x in range(len(predictions_5)):\n",
        "  print(\"Conf:\" , predictions_5[x][y_test[x]])"
      ],
      "metadata": {
        "colab": {
          "base_uri": "https://localhost:8080/"
        },
        "id": "Uu64bjW1xFRJ",
        "outputId": "f063745c-3d7b-41da-dba0-99a45c5bc3a8"
      },
      "execution_count": null,
      "outputs": [
        {
          "output_type": "stream",
          "name": "stdout",
          "text": [
            "Conf: 1.0\n",
            "Conf: 1.0\n",
            "Conf: 1.0\n",
            "Conf: 1.0\n",
            "Conf: 1.0\n"
          ]
        }
      ]
    },
    {
      "cell_type": "markdown",
      "source": [
        "### Testing how the model reacts to completly irrelevant images"
      ],
      "metadata": {
        "id": "AGZKWdQzpeuR"
      }
    },
    {
      "cell_type": "code",
      "source": [
        "import cv2\n",
        "img_path = '/content/car.jpg'\n",
        "img = cv2.imread(img_path)\n",
        "img.shape"
      ],
      "metadata": {
        "colab": {
          "base_uri": "https://localhost:8080/"
        },
        "id": "ihKHNYuf73AN",
        "outputId": "c9967a6e-dd1f-4b01-bf4f-d14169a584ad"
      },
      "execution_count": null,
      "outputs": [
        {
          "output_type": "execute_result",
          "data": {
            "text/plain": [
              "(1082, 1915, 3)"
            ]
          },
          "metadata": {},
          "execution_count": 15
        }
      ]
    },
    {
      "cell_type": "code",
      "source": [
        "plt.imshow(img)"
      ],
      "metadata": {
        "colab": {
          "base_uri": "https://localhost:8080/",
          "height": 258
        },
        "id": "qHZMTtOu795H",
        "outputId": "91738887-f268-4d7c-dea2-7ad3d8e5b8cf"
      },
      "execution_count": null,
      "outputs": [
        {
          "output_type": "execute_result",
          "data": {
            "text/plain": [
              "<matplotlib.image.AxesImage at 0x7fc91d27c210>"
            ]
          },
          "metadata": {},
          "execution_count": 16
        },
        {
          "output_type": "display_data",
          "data": {
            "image/png": "[encoded data removed]",
            "text/plain": [
              "<Figure size 432x288 with 1 Axes>"
            ]
          },
          "metadata": {
            "needs_background": "light"
          }
        }
      ]
    },
    {
      "cell_type": "code",
      "source": [
        "img_grayscale = cv2.cvtColor(img, cv2.COLOR_BGR2GRAY)\n",
        "plt.imshow(img_grayscale)\n",
        "plt.show()\n",
        "img_grayscale.shape"
      ],
      "metadata": {
        "colab": {
          "base_uri": "https://localhost:8080/",
          "height": 258
        },
        "id": "v7Y9I_4xqvhL",
        "outputId": "ad4aa2b0-84e0-4f66-df00-031572e0935a"
      },
      "execution_count": null,
      "outputs": [
        {
          "output_type": "display_data",
          "data": {
            "image/png": "[encoded data removed]",
            "text/plain": [
              "<Figure size 432x288 with 1 Axes>"
            ]
          },
          "metadata": {
            "needs_background": "light"
          }
        },
        {
          "output_type": "execute_result",
          "data": {
            "text/plain": [
              "(1082, 1915)"
            ]
          },
          "metadata": {},
          "execution_count": 17
        }
      ]
    },
    {
      "cell_type": "code",
      "source": [
        "X_train[0].shape"
      ],
      "metadata": {
        "colab": {
          "base_uri": "https://localhost:8080/"
        },
        "id": "lOozlKnEraQO",
        "outputId": "7128328a-251e-4759-85b0-8035c4179880"
      },
      "execution_count": null,
      "outputs": [
        {
          "output_type": "execute_result",
          "data": {
            "text/plain": [
              "(28, 28)"
            ]
          },
          "metadata": {},
          "execution_count": 18
        }
      ]
    },
    {
      "cell_type": "code",
      "source": [
        "img_reshaped = cv2.resize(img_grayscale, (28, 28))\n",
        "plt.imshow(img_reshaped)\n",
        "plt.show()\n",
        "img_reshaped.shape"
      ],
      "metadata": {
        "colab": {
          "base_uri": "https://localhost:8080/",
          "height": 282
        },
        "id": "SlPOVvwprbqz",
        "outputId": "dafb664a-93c2-45c1-bee4-9039a7287871"
      },
      "execution_count": null,
      "outputs": [
        {
          "output_type": "display_data",
          "data": {
            "image/png": "[encoded data removed]",
            "text/plain": [
              "<Figure size 432x288 with 1 Axes>"
            ]
          },
          "metadata": {
            "needs_background": "light"
          }
        },
        {
          "output_type": "execute_result",
          "data": {
            "text/plain": [
              "(28, 28)"
            ]
          },
          "metadata": {},
          "execution_count": 19
        }
      ]
    },
    {
      "cell_type": "code",
      "source": [
        "model.predict(np.array([X_test[0]]))"
      ],
      "metadata": {
        "colab": {
          "base_uri": "https://localhost:8080/"
        },
        "id": "f0jUP7DEtRTd",
        "outputId": "fcd435f0-79b2-4771-d09b-3f867f3feee5"
      },
      "execution_count": null,
      "outputs": [
        {
          "output_type": "execute_result",
          "data": {
            "text/plain": [
              "array([[5.7398814e-26, 9.3507596e-24, 4.9614107e-19, 6.9382803e-22,\n",
              "        1.0459576e-16, 4.6013389e-24, 7.1040955e-28, 1.0000000e+00,\n",
              "        1.1879456e-16, 2.6794912e-21]], dtype=float32)"
            ]
          },
          "metadata": {},
          "execution_count": 41
        }
      ]
    },
    {
      "cell_type": "code",
      "source": [
        "car_prediction = model.predict(np.array([img_reshaped]))"
      ],
      "metadata": {
        "id": "wheyrYmLuxj7"
      },
      "execution_count": null,
      "outputs": []
    },
    {
      "cell_type": "code",
      "source": [
        "print(\"Probability distribution: \" ,car_prediction)\n",
        "print(\"Prediction: \", np.argmax(car_prediction))\n",
        "print(\"Confidence: \", car_prediction[0][np.argmax(car_prediction)])"
      ],
      "metadata": {
        "colab": {
          "base_uri": "https://localhost:8080/"
        },
        "id": "7XsUhBXEvN4I",
        "outputId": "7f520739-f58e-47cd-86db-3804deb7541d"
      },
      "execution_count": null,
      "outputs": [
        {
          "output_type": "stream",
          "name": "stdout",
          "text": [
            "Probability distribution:  [[0.03178909 0.65152884 0.01372    0.03322923 0.01284536 0.01048334\n",
            "  0.00255929 0.03860955 0.2015729  0.00366246]]\n",
            "Prediction:  1\n",
            "Confidence:  0.65152884\n"
          ]
        }
      ]
    },
    {
      "cell_type": "code",
      "source": [
        "#65% is pretty high for a probability for a image of a car"
      ],
      "metadata": {
        "id": "XXTTKKV9WoXr"
      },
      "execution_count": null,
      "outputs": []
    },
    {
      "cell_type": "markdown",
      "source": [
        "### Sword image"
      ],
      "metadata": {
        "id": "dww8cSkcPr-q"
      }
    },
    {
      "cell_type": "code",
      "source": [
        "import cv2\n",
        "sword_path = '/content/sword.png'\n",
        "sword_img = cv2.imread(sword_path)\n",
        "\n",
        "print(sword_img.shape)\n",
        "plt.imshow(sword_img)\n",
        "plt.show()"
      ],
      "metadata": {
        "id": "iE_eI-P7x1ay",
        "colab": {
          "base_uri": "https://localhost:8080/",
          "height": 283
        },
        "outputId": "ff0ba66e-f0b1-4ecd-b303-a6643fcda746"
      },
      "execution_count": null,
      "outputs": [
        {
          "output_type": "stream",
          "name": "stdout",
          "text": [
            "(32, 32, 3)\n"
          ]
        },
        {
          "output_type": "display_data",
          "data": {
            "image/png": "[encoded data removed]",
            "text/plain": [
              "<Figure size 432x288 with 1 Axes>"
            ]
          },
          "metadata": {
            "needs_background": "light"
          }
        }
      ]
    },
    {
      "cell_type": "code",
      "source": [
        "sword_img_grayscale = cv2.cvtColor(sword_img, cv2.COLOR_BGR2GRAY)\n",
        "plt.imshow(sword_img_grayscale)\n",
        "print(sword_img_grayscale.shape)\n",
        "plt.show()"
      ],
      "metadata": {
        "colab": {
          "base_uri": "https://localhost:8080/",
          "height": 283
        },
        "id": "m6ZkU3hxP8Dc",
        "outputId": "fff6c176-24cb-457b-c0c8-b3d5080d78e3"
      },
      "execution_count": null,
      "outputs": [
        {
          "output_type": "stream",
          "name": "stdout",
          "text": [
            "(32, 32)\n"
          ]
        },
        {
          "output_type": "display_data",
          "data": {
            "image/png": "[encoded data removed]",
            "text/plain": [
              "<Figure size 432x288 with 1 Axes>"
            ]
          },
          "metadata": {
            "needs_background": "light"
          }
        }
      ]
    },
    {
      "cell_type": "code",
      "source": [
        "#Reshaping \n",
        "sword_img_reshaped = cv2.resize(sword_img_grayscale, (28, 28))\n",
        "print(sword_img_reshaped.shape)\n",
        "plt.imshow(sword_img_reshaped)\n",
        "plt.show()"
      ],
      "metadata": {
        "colab": {
          "base_uri": "https://localhost:8080/",
          "height": 282
        },
        "id": "m2yK0iLoSBpw",
        "outputId": "e9cc2922-55cb-4208-aa88-8345873668d9"
      },
      "execution_count": null,
      "outputs": [
        {
          "output_type": "stream",
          "name": "stdout",
          "text": [
            "(28, 28)\n"
          ]
        },
        {
          "output_type": "display_data",
          "data": {
            "image/png": "[encoded data removed]",
            "text/plain": [
              "<Figure size 432x288 with 1 Axes>"
            ]
          },
          "metadata": {
            "needs_background": "light"
          }
        }
      ]
    },
    {
      "cell_type": "code",
      "source": [
        "sword_prediction = model.predict(np.array([sword_img_reshaped]))"
      ],
      "metadata": {
        "id": "9mBGKXBkQffQ"
      },
      "execution_count": null,
      "outputs": []
    },
    {
      "cell_type": "code",
      "source": [
        "print(sword_prediction)\n",
        "print(\"Predicted label: \", np.argmax(sword_prediction))\n",
        "print(\"Confidence probability: \", sword_prediction[0][np.argmax(sword_prediction)])"
      ],
      "metadata": {
        "colab": {
          "base_uri": "https://localhost:8080/"
        },
        "id": "LkDpKZCvQ-vw",
        "outputId": "063882a3-467c-4202-aaf9-bf6b39bf0912"
      },
      "execution_count": null,
      "outputs": [
        {
          "output_type": "stream",
          "name": "stdout",
          "text": [
            "[[4.7180520e-06 9.5923133e-03 3.2227895e-01 5.9921923e-04 6.1449237e-02\n",
            "  5.7387543e-03 1.1054899e-03 5.4808426e-01 2.7631475e-03 4.8383903e-02]]\n",
            "Predicted label:  7\n",
            "Confidence probability:  0.54808426\n"
          ]
        }
      ]
    },
    {
      "cell_type": "code",
      "source": [
        "#Model saying it is a 54.8% probability that the images is the digit 7. This shows a lack of understanding from the model"
      ],
      "metadata": {
        "id": "zL8gCsbcTAqm"
      },
      "execution_count": null,
      "outputs": []
    }
  ]
}